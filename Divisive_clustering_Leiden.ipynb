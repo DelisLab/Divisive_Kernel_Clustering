{
  "nbformat": 4,
  "nbformat_minor": 0,
  "metadata": {
    "colab": {
      "provenance": []
    },
    "kernelspec": {
      "name": "python3",
      "display_name": "Python 3"
    },
    "language_info": {
      "name": "python"
    }
  },
  "cells": [
    {
      "cell_type": "code",
      "source": [
        "from google.colab import drive\n",
        "drive.mount('/content/drive',force_remount=True)\n",
        "%cd '/content/drive/My Drive/'"
      ],
      "metadata": {
        "id": "vkOMRCFosnkf",
        "colab": {
          "base_uri": "https://localhost:8080/"
        },
        "outputId": "0c11ac44-c1f5-4311-ad93-f52aec8d21e5"
      },
      "execution_count": null,
      "outputs": [
        {
          "output_type": "stream",
          "name": "stdout",
          "text": [
            "Mounted at /content/drive\n",
            "/content/drive/My Drive\n"
          ]
        }
      ]
    },
    {
      "cell_type": "code",
      "source": [
        "!pip install leidenalg igraph"
      ],
      "metadata": {
        "colab": {
          "base_uri": "https://localhost:8080/"
        },
        "id": "i_LE0QeBi-cm",
        "outputId": "2df2dab3-864d-4ed3-c197-3f96d1d56b6f"
      },
      "execution_count": null,
      "outputs": [
        {
          "output_type": "stream",
          "name": "stdout",
          "text": [
            "Collecting leidenalg\n",
            "  Downloading leidenalg-0.10.2-cp38-abi3-manylinux_2_17_x86_64.manylinux2014_x86_64.whl.metadata (10 kB)\n",
            "Collecting igraph\n",
            "  Downloading igraph-0.11.8-cp39-abi3-manylinux_2_17_x86_64.manylinux2014_x86_64.whl.metadata (3.8 kB)\n",
            "Collecting texttable>=1.6.2 (from igraph)\n",
            "  Downloading texttable-1.7.0-py2.py3-none-any.whl.metadata (9.8 kB)\n",
            "Downloading leidenalg-0.10.2-cp38-abi3-manylinux_2_17_x86_64.manylinux2014_x86_64.whl (2.0 MB)\n",
            "\u001b[2K   \u001b[90m━━━━━━━━━━━━━━━━━━━━━━━━━━━━━━━━━━━━━━━━\u001b[0m \u001b[32m2.0/2.0 MB\u001b[0m \u001b[31m15.1 MB/s\u001b[0m eta \u001b[36m0:00:00\u001b[0m\n",
            "\u001b[?25hDownloading igraph-0.11.8-cp39-abi3-manylinux_2_17_x86_64.manylinux2014_x86_64.whl (3.1 MB)\n",
            "\u001b[2K   \u001b[90m━━━━━━━━━━━━━━━━━━━━━━━━━━━━━━━━━━━━━━━━\u001b[0m \u001b[32m3.1/3.1 MB\u001b[0m \u001b[31m46.9 MB/s\u001b[0m eta \u001b[36m0:00:00\u001b[0m\n",
            "\u001b[?25hDownloading texttable-1.7.0-py2.py3-none-any.whl (10 kB)\n",
            "Installing collected packages: texttable, igraph, leidenalg\n",
            "Successfully installed igraph-0.11.8 leidenalg-0.10.2 texttable-1.7.0\n"
          ]
        }
      ]
    },
    {
      "cell_type": "code",
      "source": [
        "import pandas as pd\n",
        "import scipy.io as sio\n",
        "import numpy as np\n",
        "import igraph as ig\n",
        "import leidenalg\n",
        "from itertools import combinations\n",
        "mat=sio.loadmat('A.mat')['A'] #Import the multiplex network of sparse kernel matrices\n",
        "mat"
      ],
      "metadata": {
        "colab": {
          "base_uri": "https://localhost:8080/"
        },
        "id": "OLzFTJ380n8z",
        "outputId": "18e07a15-0f2f-417f-bfd0-5843ac6a0a37"
      },
      "execution_count": null,
      "outputs": [
        {
          "output_type": "execute_result",
          "data": {
            "text/plain": [
              "array([[[0.19236087, 0.        , 0.        , ..., 1.        ,\n",
              "         1.        , 1.        ],\n",
              "        [0.0477099 , 0.        , 0.94778694, ..., 0.        ,\n",
              "         0.        , 0.9954516 ],\n",
              "        [0.1808883 , 0.        , 0.91084773, ..., 0.        ,\n",
              "         0.        , 0.        ],\n",
              "        ...,\n",
              "        [0.37005921, 0.        , 0.99999999, ..., 0.        ,\n",
              "         0.79571821, 0.        ],\n",
              "        [0.1393475 , 0.        , 0.89867883, ..., 0.        ,\n",
              "         0.79571821, 0.97612508],\n",
              "        [0.04795336, 0.        , 0.86654573, ..., 0.        ,\n",
              "         0.83626018, 0.        ]],\n",
              "\n",
              "       [[0.99928815, 0.        , 0.64942737, ..., 0.        ,\n",
              "         0.        , 0.9954516 ],\n",
              "        [0.78877981, 0.        , 0.        , ..., 1.        ,\n",
              "         1.        , 1.        ],\n",
              "        [0.99746165, 0.        , 0.        , ..., 0.74936216,\n",
              "         0.8423295 , 0.        ],\n",
              "        ...,\n",
              "        [0.93455342, 0.        , 0.        , ..., 0.94783595,\n",
              "         0.        , 0.        ],\n",
              "        [0.97872675, 0.        , 0.        , ..., 0.73210399,\n",
              "         0.        , 0.99229798],\n",
              "        [0.78990055, 0.        , 0.        , ..., 0.97865179,\n",
              "         0.        , 0.        ]],\n",
              "\n",
              "       [[0.97770857, 0.        , 0.        , ..., 0.        ,\n",
              "         0.        , 0.        ],\n",
              "        [0.68881285, 0.        , 0.        , ..., 0.74936216,\n",
              "         0.8423295 , 0.        ],\n",
              "        [0.97022021, 0.        , 0.        , ..., 1.        ,\n",
              "         1.        , 1.        ],\n",
              "        ...,\n",
              "        [0.98148496, 0.        , 0.        , ..., 0.91078555,\n",
              "         0.        , 0.        ],\n",
              "        [0.92964442, 0.        , 0.        , ..., 0.99954781,\n",
              "         0.        , 0.        ],\n",
              "        [0.69004021, 0.        , 0.        , ..., 0.62629933,\n",
              "         0.        , 0.        ]],\n",
              "\n",
              "       ...,\n",
              "\n",
              "       [[0.67456423, 0.        , 0.        , ..., 0.        ,\n",
              "         0.79571821, 0.        ],\n",
              "        [0.30622217, 0.        , 0.        , ..., 0.94783595,\n",
              "         0.        , 0.        ],\n",
              "        [0.65440526, 0.99827296, 0.88416862, ..., 0.91078555,\n",
              "         0.        , 0.        ],\n",
              "        ...,\n",
              "        [0.89047122, 0.        , 0.64981352, ..., 1.        ,\n",
              "         1.        , 1.        ],\n",
              "        [0.57200641, 0.        , 0.89705703, ..., 0.89861322,\n",
              "         1.        , 0.        ],\n",
              "        [0.30719555, 0.        , 0.        , ..., 0.86661898,\n",
              "         0.99696183, 0.9901887 ]],\n",
              "\n",
              "       [[0.12450094, 0.95319135, 0.        , ..., 0.        ,\n",
              "         0.79571821, 0.97612508],\n",
              "        [0.        , 0.        , 0.99482197, ..., 0.73210399,\n",
              "         0.        , 0.99229798],\n",
              "        [0.11619263, 0.        , 0.80547863, ..., 0.99954781,\n",
              "         0.        , 0.        ],\n",
              "        ...,\n",
              "        [0.26246566, 0.97325139, 0.97490914, ..., 0.89861322,\n",
              "         1.        , 0.        ],\n",
              "        [0.086803  , 0.95319135, 0.78934347, ..., 1.        ,\n",
              "         1.        , 1.        ],\n",
              "        [0.        , 0.95319135, 0.95319135, ..., 0.60806411,\n",
              "         0.99696183, 0.        ]],\n",
              "\n",
              "       [[0.18463355, 0.        , 0.        , ..., 0.        ,\n",
              "         0.83626018, 0.        ],\n",
              "        [0.04512905, 0.        , 0.95453808, ..., 0.97865179,\n",
              "         0.        , 0.        ],\n",
              "        [0.17349114, 0.        , 0.90182941, ..., 0.62629933,\n",
              "         0.        , 0.        ],\n",
              "        ...,\n",
              "        [0.35844207, 0.        , 0.99975174, ..., 0.86661898,\n",
              "         0.99696183, 0.9901887 ],\n",
              "        [0.13324155, 0.        , 0.88918061, ..., 0.60806411,\n",
              "         0.99696183, 0.        ],\n",
              "        [0.04536144, 0.        , 0.87679656, ..., 1.        ,\n",
              "         1.        , 1.        ]]])"
            ]
          },
          "metadata": {},
          "execution_count": 3
        }
      ]
    },
    {
      "cell_type": "code",
      "source": [
        "def Divisive_Clustering(X):\n",
        "    \"\"\"\n",
        "    Consensus-based community detection for directed or undirected networks\n",
        "    using the Leiden algorithm.\n",
        "\n",
        "    Arguments:\n",
        "    X : 3D numpy array of shape (N, N, L), where N is the number of nodes,\n",
        "        and L is the number of layers (each representing a weighted adjacency matrix).\n",
        "\n",
        "    Returns:\n",
        "    Opt_rank : The optimal number of clusters to extract\n",
        "    M : Community assignment of nodes\n",
        "    Q : Modularity value of the partition\n",
        "    aggregated_vs : Co-membership matrix aggregated across layers\n",
        "    \"\"\"\n",
        "    # Validate input dimensions\n",
        "    if len(X.shape) != 3 or X.shape[0] != X.shape[1]:\n",
        "        raise ValueError(\"Input X must be a 3D numpy array with shape (N, N, L).\")\n",
        "\n",
        "    N, _, L = X.shape  # Number of nodes and layers\n",
        "    Vs = []  # To store co-membership matrices from each layer\n",
        "    combos_s = list(combinations(range(N), 2))  # Generate pairs of nodes\n",
        "\n",
        "    for i in range(L):\n",
        "        v = []  # Co-membership vector for the current layer\n",
        "        net = X[:, :, i]  # Extract the i-th layer as a NumPy array\n",
        "\n",
        "        # Create an igraph directed graph for each layer\n",
        "        G = ig.Graph.Weighted_Adjacency(net.tolist(), mode=\"directed\", attr=\"weight\")\n",
        "        partition = leidenalg.find_partition(G, leidenalg.ModularityVertexPartition, weights=\"weight\")\n",
        "\n",
        "        M = partition.membership\n",
        "\n",
        "        # Compute co-membership matrix for the current layer\n",
        "        co_matrix = np.zeros((N, N))\n",
        "        for ii in range(len(combos_s)):\n",
        "            m1 = M[combos_s[ii][0]]\n",
        "            m2 = M[combos_s[ii][1]]\n",
        "            if m1 == m2:\n",
        "                co_matrix[combos_s[ii][0], combos_s[ii][1]] = 1\n",
        "                co_matrix[combos_s[ii][1], combos_s[ii][0]] = 1  # Ensure symmetry\n",
        "\n",
        "        Vs.append(co_matrix)\n",
        "\n",
        "    # Convert the list of co-membership matrices to a 3D array\n",
        "    Vs = np.stack(Vs, axis=2)\n",
        "\n",
        "    # Aggregate the co-membership matrices by summing across layers\n",
        "    aggregated_vs = np.sum(Vs, axis=2)\n",
        "\n",
        "    # Create a graph for the aggregated matrix (using undirected mode)\n",
        "    # Aggregated co-membership matrix should be treated as undirected\n",
        "    G = ig.Graph.Weighted_Adjacency(aggregated_vs.tolist(), mode=\"undirected\", attr=\"weight\")\n",
        "    partition = leidenalg.find_partition(G, leidenalg.ModularityVertexPartition, weights=\"weight\")\n",
        "\n",
        "    Q = partition.q  # Modularity score\n",
        "    M = partition.membership\n",
        "\n",
        "    # Return the optimal number of clusters and other results\n",
        "    Opt_rank = max(M) + 1\n",
        "    return Opt_rank, M, aggregated_vs, Q\n",
        "\n"
      ],
      "metadata": {
        "id": "2qXqpzdNjFFu"
      },
      "execution_count": null,
      "outputs": []
    },
    {
      "cell_type": "code",
      "source": [
        "Opt_rank, M, aggregated_vs, Q = Divisive_Clustering(mat)\n",
        "print(\"Optimal number of clusters:\", Opt_rank)\n",
        "print(\"Community assignments:\", M)\n",
        "print(\"Modularity score:\", Q)\n",
        "print(\"Aggregated co-membership matrix (Vs):\\n\", aggregated_vs)\n"
      ],
      "metadata": {
        "colab": {
          "base_uri": "https://localhost:8080/"
        },
        "collapsed": true,
        "id": "vrU3V90Epr9X",
        "outputId": "eb3ed4d6-e7f7-45af-c524-e49f9433fbf0"
      },
      "execution_count": null,
      "outputs": [
        {
          "output_type": "stream",
          "name": "stdout",
          "text": [
            "Optimal number of clusters: 3\n",
            "Community assignments: [0, 2, 2, 1, 1, 0, 0, 1, 2, 0, 1, 1, 2, 2, 0, 0, 2, 1, 0, 0]\n",
            "Modularity score: -0.03473684210526312\n",
            "Aggregated co-membership matrix (Vs):\n",
            " [[ 0.  8.  6.  5. 10. 10.  9.  6.  9. 12.  2.  5.  8.  9.  6. 10.  6.  6.\n",
            "  15. 13.]\n",
            " [ 8.  0. 14.  9.  8.  5.  2.  8. 15.  2.  7. 10. 12. 11.  3.  4. 13.  6.\n",
            "   6.  7.]\n",
            " [ 6. 14.  0.  8.  5.  7.  5.  7. 15.  5.  9. 10.  7. 14.  5.  1. 20.  3.\n",
            "   8.  4.]\n",
            " [ 5.  9.  8.  0.  9.  6.  9.  9.  7.  9. 15. 11.  7.  7.  9.  9.  9. 11.\n",
            "   2.  3.]\n",
            " [10.  8.  5.  9.  0. 12.  6. 17.  5.  9.  8. 14. 10.  4.  6.  9.  5. 11.\n",
            "   9. 11.]\n",
            " [10.  5.  7.  6. 12.  0. 11. 10.  6. 14.  6.  8.  8. 11.  9.  6.  7.  8.\n",
            "  11.  9.]\n",
            " [ 9.  2.  5.  9.  6. 11.  0.  3.  6. 17.  7.  5.  4.  7.  8. 12.  5.  7.\n",
            "   9.  9.]\n",
            " [ 6.  8.  7.  9. 17. 10.  3.  0.  6.  5. 11. 13.  9.  4.  6.  6.  8. 13.\n",
            "   8.  8.]\n",
            " [ 9. 15. 15.  7.  5.  6.  6.  6.  0.  6.  5.  7. 11. 13.  5.  4. 15.  5.\n",
            "   7.  6.]\n",
            " [12.  2.  5.  9.  9. 14. 17.  5.  6.  0.  6.  4.  3.  7.  9. 13.  5. 11.\n",
            "  11. 12.]\n",
            " [ 2.  7.  9. 15.  8.  6.  7. 11.  5.  6.  0. 10.  6.  6. 10.  8. 10.  9.\n",
            "   3.  3.]\n",
            " [ 5. 10. 10. 11. 14.  8.  5. 13.  7.  4. 10.  0. 13.  9.  4.  4. 11. 10.\n",
            "   5.  6.]\n",
            " [ 8. 12.  7.  7. 10.  8.  4.  9. 11.  3.  6. 13.  0. 11.  5.  5.  7. 10.\n",
            "   6.  8.]\n",
            " [ 9. 11. 14.  7.  4. 11.  7.  4. 13.  7.  6.  9. 11.  0.  7.  3. 14.  4.\n",
            "  13.  8.]\n",
            " [ 6.  3.  5.  9.  6.  9.  8.  6.  5.  9. 10.  4.  5.  7.  0. 10.  5.  7.\n",
            "   7.  5.]\n",
            " [10.  4.  1.  9.  9.  6. 12.  6.  4. 13.  8.  4.  5.  3. 10.  0.  1. 11.\n",
            "   9. 12.]\n",
            " [ 6. 13. 20.  9.  5.  7.  5.  8. 15.  5. 10. 11.  7. 14.  5.  1.  0.  4.\n",
            "   8.  4.]\n",
            " [ 6.  6.  3. 11. 11.  8.  7. 13.  5. 11.  9. 10. 10.  4.  7. 11.  4.  0.\n",
            "   7. 12.]\n",
            " [15.  6.  8.  2.  9. 11.  9.  8.  7. 11.  3.  5.  6. 13.  7.  9.  8.  7.\n",
            "   0. 16.]\n",
            " [13.  7.  4.  3. 11.  9.  9.  8.  6. 12.  3.  6.  8.  8.  5. 12.  4. 12.\n",
            "  16.  0.]]\n"
          ]
        }
      ]
    },
    {
      "cell_type": "code",
      "source": [
        "def recursive_Divisive_Clustering(X, max_depth=3, current_depth=0):\n",
        "    \"\"\"\n",
        "    Apply the community detection recursively and store the results in a tree structure.\n",
        "\n",
        "    Arguments:\n",
        "    X : 3D numpy array representing the graph layers.\n",
        "    max_depth : Maximum recursion depth.\n",
        "    current_depth : Current recursion depth (used for tracking).\n",
        "\n",
        "    Returns:\n",
        "    tree_structure : A tree-like dictionary of the community detection results or None if stopped.\n",
        "    \"\"\"\n",
        "    # Stop recursion if the current depth exceeds the max_depth\n",
        "    if current_depth >= max_depth:\n",
        "        return None\n",
        "\n",
        "    # Apply the consensus function to get results\n",
        "    Opt_rank, M, aggregated_vs, Q = Divisive_Clustering(X)\n",
        "\n",
        "    # If Opt_rank is 1, stop recursion and return None (this branch will not have any output)\n",
        "    if Opt_rank == 1:\n",
        "        return None\n",
        "\n",
        "    # Prepare the tree structure at the current depth\n",
        "    result_tree = {\n",
        "        'Depth': current_depth,\n",
        "        'Community Membership': M,\n",
        "        'Modularity Score': Q,\n",
        "        'Aggregated Co-membership Matrix': aggregated_vs,\n",
        "    }\n",
        "\n",
        "    # Create subgraphs based on community membership\n",
        "    subgraphs = {}\n",
        "    N = len(M)\n",
        "    for community_id in set(M):\n",
        "        # Create a subgraph for each community\n",
        "        community_nodes = [i for i in range(N) if M[i] == community_id]\n",
        "        if len(community_nodes) > 1:  # Only recurse on non-trivial subgraphs\n",
        "            subgraph_data = X[community_nodes, :][:, community_nodes, :]\n",
        "            subgraphs[community_id] = recursive_Divisive_Clustering(subgraph_data, max_depth, current_depth + 1)\n",
        "\n",
        "    # Only add subgraphs if there are any, otherwise return None\n",
        "    if subgraphs:\n",
        "        result_tree['Subgraphs'] = subgraphs\n",
        "    else:\n",
        "        result_tree['Subgraphs'] = {}\n",
        "\n",
        "    return result_tree\n",
        "\n"
      ],
      "metadata": {
        "id": "ifzJav2d1X8u"
      },
      "execution_count": null,
      "outputs": []
    },
    {
      "cell_type": "code",
      "source": [
        "# Example usage\n",
        "# Assuming `mat` is your 3D numpy array (shape: N x N x L)\n",
        "result_tree = recursive_Divisive_Clustering(mat, max_depth=4,current_depth=0)\n",
        "result_tree"
      ],
      "metadata": {
        "colab": {
          "base_uri": "https://localhost:8080/"
        },
        "id": "cvSAN27P49nk",
        "outputId": "0f353ae5-5fe1-4080-e129-5b025f5f3276"
      },
      "execution_count": null,
      "outputs": [
        {
          "output_type": "execute_result",
          "data": {
            "text/plain": [
              "{'Depth': 0,\n",
              " 'Community Membership': [0,\n",
              "  2,\n",
              "  2,\n",
              "  1,\n",
              "  1,\n",
              "  0,\n",
              "  0,\n",
              "  1,\n",
              "  2,\n",
              "  0,\n",
              "  1,\n",
              "  1,\n",
              "  1,\n",
              "  2,\n",
              "  0,\n",
              "  0,\n",
              "  2,\n",
              "  1,\n",
              "  0,\n",
              "  0],\n",
              " 'Modularity Score': -0.034473684210526254,\n",
              " 'Aggregated Co-membership Matrix': array([[ 0.,  8.,  6.,  5., 10., 11., 10.,  7.,  8., 12.,  2.,  6.,  7.,\n",
              "          9.,  6., 11.,  6.,  6., 15., 14.],\n",
              "        [ 8.,  0., 14.,  9.,  8.,  4.,  3.,  9., 14.,  2.,  7., 11., 11.,\n",
              "         11.,  4.,  4., 13.,  6.,  6.,  8.],\n",
              "        [ 6., 14.,  0.,  8.,  7.,  6.,  5.,  6., 14.,  5.,  9., 10.,  6.,\n",
              "         14.,  6.,  1., 20.,  3.,  8.,  5.],\n",
              "        [ 5.,  9.,  8.,  0.,  7.,  5., 10., 10.,  8.,  9., 15., 12.,  8.,\n",
              "          7., 10.,  9.,  9., 11.,  2.,  2.],\n",
              "        [10.,  8.,  7.,  7.,  0., 11.,  5., 16.,  4.,  7.,  8., 13.,  9.,\n",
              "          5.,  7.,  9.,  7.,  9., 10., 11.],\n",
              "        [11.,  4.,  6.,  5., 11.,  0., 12.,  8.,  4., 15.,  5.,  7.,  8.,\n",
              "         10., 10.,  8.,  6.,  9., 12., 11.],\n",
              "        [10.,  3.,  5., 10.,  5., 12.,  0.,  4.,  8., 18.,  7.,  5.,  6.,\n",
              "          7.,  8., 14.,  5.,  8.,  9.,  9.],\n",
              "        [ 7.,  9.,  6., 10., 16.,  8.,  4.,  0.,  6.,  6., 10., 14., 11.,\n",
              "          3.,  6.,  7.,  7., 14.,  7., 10.],\n",
              "        [ 8., 14., 14.,  8.,  4.,  4.,  8.,  6.,  0.,  7.,  6.,  7.,  9.,\n",
              "         12.,  7.,  5., 14.,  6.,  6.,  6.],\n",
              "        [12.,  2.,  5.,  9.,  7., 15., 18.,  6.,  7.,  0.,  6.,  5.,  4.,\n",
              "          7.,  9., 14.,  5., 11., 11., 11.],\n",
              "        [ 2.,  7.,  9., 15.,  8.,  5.,  7., 10.,  6.,  6.,  0., 10.,  7.,\n",
              "          6., 11.,  8., 10.,  9.,  3.,  2.],\n",
              "        [ 6., 11., 10., 12., 13.,  7.,  5., 14.,  7.,  5., 10.,  0., 15.,\n",
              "          9.,  4.,  6., 11., 11.,  5.,  8.],\n",
              "        [ 7., 11.,  6.,  8.,  9.,  8.,  6., 11.,  9.,  4.,  7., 15.,  0.,\n",
              "         11.,  5.,  6.,  6., 11.,  6.,  9.],\n",
              "        [ 9., 11., 14.,  7.,  5., 10.,  7.,  3., 12.,  7.,  6.,  9., 11.,\n",
              "          0.,  7.,  4., 14.,  4., 13.,  9.],\n",
              "        [ 6.,  4.,  6., 10.,  7., 10.,  8.,  6.,  7.,  9., 11.,  4.,  5.,\n",
              "          7.,  0.,  9.,  6.,  8.,  7.,  4.],\n",
              "        [11.,  4.,  1.,  9.,  9.,  8., 14.,  7.,  5., 14.,  8.,  6.,  6.,\n",
              "          4.,  9.,  0.,  1., 11., 10., 12.],\n",
              "        [ 6., 13., 20.,  9.,  7.,  6.,  5.,  7., 14.,  5., 10., 11.,  6.,\n",
              "         14.,  6.,  1.,  0.,  4.,  8.,  5.],\n",
              "        [ 6.,  6.,  3., 11.,  9.,  9.,  8., 14.,  6., 11.,  9., 11., 11.,\n",
              "          4.,  8., 11.,  4.,  0.,  7., 11.],\n",
              "        [15.,  6.,  8.,  2., 10., 12.,  9.,  7.,  6., 11.,  3.,  5.,  6.,\n",
              "         13.,  7., 10.,  8.,  7.,  0., 17.],\n",
              "        [14.,  8.,  5.,  2., 11., 11.,  9., 10.,  6., 11.,  2.,  8.,  9.,\n",
              "          9.,  4., 12.,  5., 11., 17.,  0.]]),\n",
              " 'Subgraphs': {0: None,\n",
              "  1: {'Depth': 1,\n",
              "   'Community Membership': [1, 0, 0, 1, 0, 0, 0],\n",
              "   'Modularity Score': -0.06802721088435361,\n",
              "   'Aggregated Co-membership Matrix': array([[ 0.,  5.,  5., 15.,  6.,  7.,  7.],\n",
              "          [ 5.,  0., 14.,  4., 11., 10.,  9.],\n",
              "          [ 5., 14.,  0.,  6., 13.,  8.,  9.],\n",
              "          [15.,  4.,  6.,  0.,  3.,  9.,  6.],\n",
              "          [ 6., 11., 13.,  3.,  0.,  9., 11.],\n",
              "          [ 7., 10.,  8.,  9.,  9.,  0., 10.],\n",
              "          [ 7.,  9.,  9.,  6., 11., 10.,  0.]]),\n",
              "   'Subgraphs': {0: None, 1: None}},\n",
              "  2: None}}"
            ]
          },
          "metadata": {},
          "execution_count": 17
        }
      ]
    },
    {
      "cell_type": "code",
      "source": [],
      "metadata": {
        "id": "LIY2i2yLxmEf"
      },
      "execution_count": null,
      "outputs": []
    }
  ]
}